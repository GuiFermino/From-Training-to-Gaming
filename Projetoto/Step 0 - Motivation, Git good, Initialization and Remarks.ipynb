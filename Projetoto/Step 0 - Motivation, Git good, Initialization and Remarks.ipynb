{
 "cells": [
  {
   "cell_type": "markdown",
   "metadata": {},
   "source": [
    "# References and codes used:"
   ]
  },
  {
   "cell_type": "code",
   "execution_count": null,
   "metadata": {},
   "outputs": [],
   "source": [
    "! git clone https://github.com/nicknochnack/RealTimeObjectDetection"
   ]
  },
  {
   "cell_type": "markdown",
   "metadata": {},
   "source": [
    "Project based on for image acquisition and training, with the use of Tensorflow Object Detection. It helped in the construction of a customized model which allows real-time video recognition of such model."
   ]
  },
  {
   "cell_type": "markdown",
   "metadata": {},
   "source": [
    "https://readthedocs.org/projects/tensorflow-object-detection-api-tutorial/downloads/pdf/latest/"
   ]
  },
  {
   "cell_type": "code",
   "execution_count": null,
   "metadata": {},
   "outputs": [],
   "source": [
    "! git clone https://github.com/sheensantoscapadngan/gesture"
   ]
  },
  {
   "cell_type": "markdown",
   "metadata": {},
   "source": [
    "Project based on for computer mouse and keyboard (peripherals) use, with the use of PyAutoGUI. It helped on the advanced part of the project, about using a real-time video recognition to control the computer."
   ]
  },
  {
   "cell_type": "markdown",
   "metadata": {},
   "source": [
    "https://readthedocs.org/projects/pyautogui/downloads/pdf/latest/"
   ]
  },
  {
   "cell_type": "code",
   "execution_count": null,
   "metadata": {},
   "outputs": [],
   "source": [
    "! git clone https://github.com/tzutalin/labelImg #Will later be explained specific folder to be put on"
   ]
  },
  {
   "cell_type": "markdown",
   "metadata": {},
   "source": [
    "Project based on for labeling Images. It helped in the labeling of images for later train and test them."
   ]
  },
  {
   "cell_type": "code",
   "execution_count": null,
   "metadata": {},
   "outputs": [],
   "source": [
    "! git clone https://github.com/tensorflow/models #Will later be explained specific folder to be put on"
   ]
  },
  {
   "cell_type": "markdown",
   "metadata": {},
   "source": [
    "Official TensorFlow object detection library"
   ]
  },
  {
   "cell_type": "markdown",
   "metadata": {},
   "source": [
    "# Motivation (s):\n",
    "## Pre-project\n",
    "- Before the beginning of this project, my main motivation was to use a real-time recognition of manual gestures to write on the keyboard and facilitate the user's life with simple commands (which, sometimes, are not as fast achieved with the keyboard and mouse) in the dayle routines of working on a computer, being able to have a interactive shortcut via video recognition. Commands xamples: turning off a computer; close all windows; safely remove flash drives; etc.\n",
    "\n",
    "## During the project\n",
    "- Since I did this project on my own Laptop Computer (needing to connect to my webcam for the abotention of data, not being possible with JupyterHub), it didn't have a lot of processing capacity, having some drawbacks in question of time. With the realization that such objectives previously created would not be achievable in a timely manner, I started to \"round off\" the borders, focusing more on the training object and less on the controling. With that I proposed for this project to play a simple game of \"Project Bolan\", which would only require 1 hand signal position for recognition, but still training more hand positions, just so maybe to implement them for other purposes or perhaps to play a more complicated game. The specific use of a video game is only for a visual approach, showing one of the possibilities of control over commands, but also with demonstration of how accurate that control can  be in as real-time video capture context."
   ]
  },
  {
   "cell_type": "markdown",
   "metadata": {},
   "source": [
    "# Some instalations necessaries for the functioning of the project"
   ]
  },
  {
   "cell_type": "markdown",
   "metadata": {},
   "source": [
    "## For Object Detection and Hand Gesture:"
   ]
  },
  {
   "cell_type": "code",
   "execution_count": null,
   "metadata": {},
   "outputs": [],
   "source": [
    "! pip install keras\n",
    "! pip install scikit-image\n",
    "! pip install pooch\n",
    "! pip install numpy\n",
    "! pip install opencv-python\n",
    "! pip install pandas\n",
    "! pip install tensorflow\n",
    "! pip install tensorflow-object-detection-api\n",
    "! pip install pyautogui"
   ]
  },
  {
   "cell_type": "markdown",
   "metadata": {},
   "source": [
    "### Python Comentary:\n",
    "- For the object detection part it was necessary to use Python 3.7.x version."
   ]
  },
  {
   "attachments": {
    "Folder%20path%200.png": {
     "image/png": "[encoded data removed]"
    }
   },
   "cell_type": "markdown",
   "metadata": {},
   "source": [
    "This project was divided in 4 Steps, which should be followed as the explaing of goes on.\n",
    "\n",
    "For the first step, we should open the \"Step 1\" code (about collecting images), located inside Real Time Object Detection folder:\n",
    "\n",
    "![Folder%20path%200.png](attachment:Folder%20path%200.png)"
   ]
  },
  {
   "cell_type": "code",
   "execution_count": null,
   "metadata": {},
   "outputs": [],
   "source": []
  }
 ],
 "metadata": {
  "kernelspec": {
   "display_name": "Python 3",
   "language": "python",
   "name": "python3"
  },
  "language_info": {
   "codemirror_mode": {
    "name": "ipython",
    "version": 3
   },
   "file_extension": ".py",
   "mimetype": "text/x-python",
   "name": "python",
   "nbconvert_exporter": "python",
   "pygments_lexer": "ipython3",
   "version": "3.7.7"
  }
 },
 "nbformat": 4,
 "nbformat_minor": 4
}
