{
 "cells": [
  {
   "cell_type": "code",
   "execution_count": 1,
   "metadata": {},
   "outputs": [],
   "source": [
    "# ! git clone https://github.com/tzutalin/labelImg\n",
    "# ! git clone https://github.com/nicknochnack/RealTimeObjectDetection\n",
    "# ! pip install scikit-image\n",
    "# ! pip install opencv-python"
   ]
  },
  {
   "cell_type": "code",
   "execution_count": 2,
   "metadata": {},
   "outputs": [],
   "source": [
    "# Dependecies which facilitates the colection of data:\n",
    "\n",
    "import cv2 #openCV (main depency)\n",
    "#https://docs.opencv.org/master/d0/de3/tutorial_py_intro.html\n",
    "\n",
    "import os #save image\n",
    "#https://docs.python.org/3/library/os.html\n",
    "\n",
    "import time #give a break in between colection of real time data\n",
    "#https://docs.python.org/3/library/time.html\n",
    "\n",
    "import uuid #name image files\n",
    "#https://docs.python.org/3/library/uuid.html"
   ]
  },
  {
   "cell_type": "code",
   "execution_count": 3,
   "metadata": {},
   "outputs": [],
   "source": [
    "# Creating a folder for colection of images:\n",
    "IMAGES_PATH = 'Tensorflow/workspace/images/collected_images'"
   ]
  },
  {
   "cell_type": "code",
   "execution_count": 4,
   "metadata": {},
   "outputs": [],
   "source": [
    "#labelling of poses collected:\n",
    "labels = ['right','left','up','down','jump','shoot']\n",
    "\n",
    "#Numver  of images collected:\n",
    "number_of_imgs = 15 #13 for training and 2 for testing"
   ]
  },
  {
   "cell_type": "code",
   "execution_count": 5,
   "metadata": {
    "scrolled": true
   },
   "outputs": [
    {
     "name": "stdout",
     "output_type": "stream",
     "text": [
      "False -2\n",
      "False -1\n",
      "True 0\n",
      "True 1\n",
      "False 2\n",
      "False 3\n",
      "False 4\n",
      "False 5\n",
      "False 6\n",
      "False 7\n",
      "False 8\n",
      "False 9\n",
      "False 10\n",
      "False 11\n",
      "False 12\n",
      "False 13\n",
      "False 14\n",
      "False 15\n",
      "False 16\n",
      "False 17\n",
      "False 18\n",
      "False 19\n",
      "False 20\n",
      "False 21\n",
      "False 22\n"
     ]
    }
   ],
   "source": [
    "for x in range(25): # Let's test to catch which device  is our webcam setted in\n",
    "    cap = cv2.VideoCapture(x - 2) # Capture video from webcam, number may vary from PC to PC\n",
    "    print (cap.isOpened(), x - 2)"
   ]
  },
  {
   "cell_type": "code",
   "execution_count": 12,
   "metadata": {
    "scrolled": false
   },
   "outputs": [
    {
     "name": "stdout",
     "output_type": "stream",
     "text": [
      "Collecting images for jump\n",
      "Prepare for image number 0\n",
      "Prepare for image number 1\n",
      "Prepare for image number 2\n",
      "Prepare for image number 3\n",
      "Prepare for image number 4\n",
      "Prepare for image number 5\n",
      "Prepare for image number 6\n",
      "Prepare for image number 7\n",
      "Prepare for image number 8\n",
      "Prepare for image number 9\n",
      "Prepare for image number 10\n",
      "Prepare for image number 11\n",
      "Prepare for image number 12\n",
      "Prepare for image number 13\n",
      "Prepare for image number 14\n",
      "Collecting images for shoot\n",
      "Prepare for image number 0\n",
      "Prepare for image number 1\n",
      "Prepare for image number 2\n",
      "Prepare for image number 3\n",
      "Prepare for image number 4\n",
      "Prepare for image number 5\n",
      "Prepare for image number 6\n",
      "Prepare for image number 7\n",
      "Prepare for image number 8\n",
      "Prepare for image number 9\n",
      "Prepare for image number 10\n",
      "Prepare for image number 11\n",
      "Prepare for image number 12\n",
      "Prepare for image number 13\n",
      "Prepare for image number 14\n"
     ]
    }
   ],
   "source": [
    "for label in labels:\n",
    "    os.makedirs('Tensorflow/workspace/images/collected_images/\\\\'+label) #Go throught each label\n",
    "    \n",
    "    webcamTry = 0\n",
    "\n",
    "    cap = cv2.VideoCapture(webcamTry) # Capture video from webcam, number may vary from PC to PC\n",
    "    # if not cap.isOpened():\n",
    "    #     cap = cv2.VideoCapture(webcamTry) # Trying again to capture video\n",
    "    # if not cap.isOpened():\n",
    "    #     raise IOError(\"Cannot open webcam\")  # Number of the device is not correct, or webcam is not working\n",
    "        \n",
    "    print('Collecting images for {}'.format(label))\n",
    "    time.sleep(5) #Give time to get into position to get each images (5 seconds in this case)\n",
    "    for img_num in range(number_of_imgs): #\n",
    "        ret, frame = cap.read()\n",
    "        img_name = os.path.join(IMAGES_PATH, label, label+'.'+'{}.jpg'.format(str(uuid.uuid1()))) #Defining image name\n",
    "        # uuid helps us at not duplicate the name of the image\n",
    "        cv2.imwrite(img_name, frame) #write to directory\n",
    "        cv2.imshow('frame', frame) #show image in the screen\n",
    "        print('Prepare for image number {}'.format(img_num))\n",
    "        time.sleep(3) #Give time to get into position to get each images (3 seconds in this case)\n",
    "        \n",
    "\n",
    "        if cv2.waitKey(1) & 0xFF == ord('q'): #break key\n",
    "            break\n",
    "    cap.release() #release a video capture\n",
    "cv2.destroyAllWindows() #close windows of video capture"
   ]
  },
  {
   "cell_type": "code",
   "execution_count": null,
   "metadata": {},
   "outputs": [],
   "source": []
  }
 ],
 "metadata": {
  "kernelspec": {
   "display_name": "Python 3",
   "language": "python",
   "name": "python3"
  },
  "language_info": {
   "codemirror_mode": {
    "name": "ipython",
    "version": 3
   },
   "file_extension": ".py",
   "mimetype": "text/x-python",
   "name": "python",
   "nbconvert_exporter": "python",
   "pygments_lexer": "ipython3",
   "version": "3.7.7"
  }
 },
 "nbformat": 4,
 "nbformat_minor": 5
}
